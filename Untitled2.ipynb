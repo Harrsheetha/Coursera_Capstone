{
 "cells": [
  {
   "cell_type": "code",
   "execution_count": null,
   "metadata": {},
   "outputs": [],
   "source": [
    "#initialise the plot with specified dimensions\n",
    "fig = plt.figure(figsize=(15,10))\n",
    "\n",
    "#colors uses a colour map, which will produce an array of colors based on the number of labels\n",
    "#unique labels\n",
    "colors = plt.cm.Spectral(np.linspace(0,1,len(set(k_means_labels))))\n",
    "#create a plot\n",
    "ax = fig.add_subplot(1,1,1)\n",
    "#loop through the data and plot the datapoints and centroids\n",
    "# k will range from 0-3, which will match the number of clusters in the datasets\n",
    "for k, col in zip(range(len([[4,4], [-2,-1], [2,-3], [1,1]])), colors):\n",
    "    #create a list of all datapoints\n",
    "    #in the cluster are labeled as true, else they are they are labeled as false\n",
    "    my_members = (k_means_labels == k)\n",
    "    #define the centroid, or cluster center\n",
    "    cluster_center = k_means_clusters_centers[k]\n",
    "    #plot the datapoints with color col\n",
    "    ax.plot(X[my_members, 0], X[my_members, 1],'w', markerfacecolor=col,marker='')\n",
    "    #plot the centroids with specified color, but with a darker outline\n",
    "    ax.plot(cluster_center[0],cluster_center[1],'o', marker-facecolor=col, markeredgecolor='k', markersize=6)\n",
    "ax.set_title('Kmeans')   \n",
    "ax.set_xticks(())\n",
    "ax.set_yticks(())\n",
    "plt.show()\n",
    "    \n"
   ]
  }
 ],
 "metadata": {
  "kernelspec": {
   "display_name": "Python 3",
   "language": "python",
   "name": "python3"
  },
  "language_info": {
   "codemirror_mode": {
    "name": "ipython",
    "version": 3
   },
   "file_extension": ".py",
   "mimetype": "text/x-python",
   "name": "python",
   "nbconvert_exporter": "python",
   "pygments_lexer": "ipython3",
   "version": "3.8.3"
  }
 },
 "nbformat": 4,
 "nbformat_minor": 4
}
